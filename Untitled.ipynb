{
 "cells": [
  {
   "cell_type": "markdown",
   "id": "focal-driving",
   "metadata": {},
   "source": [
    "# SP_data_pipeline_mini-project\n",
    "![Design Blocks](https://images.unsplash.com/photo-1565086101813-41318972d895?ixid=MXwxMjA3fDB8MHxwaG90by1wYWdlfHx8fGVufDB8fHw%3D&ixlib=rb-1.2.1&auto=format&fit=crop&w=1934&q=80)\n",
    "Image by: Rachel C, Unsplash\n",
    "\n",
    "## Table of contents\n",
    "* [Project Context](#project-context)\n",
    "* [Project Deliverables](#project-deliverables)\n",
    "* [Technologies](#technologies)\n",
    "* [Setup](#setup)\n",
    "\n",
    "\n",
    "## Project Context\n",
    "\n",
    "In this project, you are provided with a ticket system database with ticket sales event table. This table tracks all ticket sales for various events, including when\n",
    "a third-party reseller submits their records of ticket sales for a new day. The records are submitted as a CSV file.\n",
    "\n",
    "With this-mini project, you’ll practice Python and SQL skills by creating a basic data pipeline. You’ll learn how to use the Python database connector to perform data loading and query\n",
    "databases programmatically.\n",
    "\n",
    "__Your task is to:__\n",
    "\n",
    "- Write the table definition DDL and use it to create the sales table.\n",
    "- Read the CSV file and load the new sales records into the ticket sales table.\n",
    "\n",
    "\n",
    "## Project Deliverables:\n",
    "\n",
    "- Push the Python code to your GitHub repo.\n",
    "- Add a readme file to include steps to run your code and verify the result.\n",
    "- Attach the command line execution log for the successful job run. You can capture it in a text file.\n",
    "\n",
    "## Technologies\n",
    "\n",
    "Project is created with:\n",
    "* Lorem version: 12.3\n",
    "* Ipsum version: 2.33\n",
    "* Ament library version: 999\n",
    "\t\n",
    "## Setup\n",
    "To run this project, install it locally using npm:\n",
    "\n",
    "```\n",
    "$ cd ../lorem\n",
    "$ npm install\n",
    "$ npm start\n",
    "```\n",
    "_____"
   ]
  },
  {
   "cell_type": "code",
   "execution_count": null,
   "id": "modified-basket",
   "metadata": {},
   "outputs": [],
   "source": []
  }
 ],
 "metadata": {
  "kernelspec": {
   "display_name": "Python 3",
   "language": "python",
   "name": "python3"
  },
  "language_info": {
   "codemirror_mode": {
    "name": "ipython",
    "version": 3
   },
   "file_extension": ".py",
   "mimetype": "text/x-python",
   "name": "python",
   "nbconvert_exporter": "python",
   "pygments_lexer": "ipython3",
   "version": "3.8.5"
  }
 },
 "nbformat": 4,
 "nbformat_minor": 5
}
