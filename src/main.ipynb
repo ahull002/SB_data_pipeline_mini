{
 "cells": [
  {
   "cell_type": "code",
   "execution_count": 2,
   "id": "colored-cable",
   "metadata": {},
   "outputs": [],
   "source": [
    "# Setup database connection\n",
    "#In order to make a query against the database table, we need to first connect to it. A connection\n",
    "#can be established only when the user provides the proper target host, port, and user credentials.\n",
    "def get_db_connection():\n",
    "    connection = None\n",
    "    try:\n",
    "        connection = mysql.connector.connect(user='<username>', \n",
    "                                             password='<password>', \n",
    "                                             host='<hostname>', \n",
    "                                             port='3306', \n",
    "                                             database='<database name>')\n",
    "\n",
    "    except Exception as error:\n",
    "        print(\"Error while connecting to database for job tracker\", error)\n",
    "\n",
    "    return connection\n",
    "\n"
   ]
  },
  {
   "cell_type": "code",
   "execution_count": 11,
   "id": "junior-intention",
   "metadata": {},
   "outputs": [],
   "source": [
    "import pandas as pd\n",
    "import os"
   ]
  },
  {
   "cell_type": "code",
   "execution_count": 12,
   "id": "reflected-indiana",
   "metadata": {},
   "outputs": [
    {
     "data": {
      "text/plain": [
       "'C:\\\\Users\\\\alfre\\\\OneDrive\\\\3_School\\\\BootCamp_Springboard\\\\Data_Engineering_Path\\\\1_training\\\\15.3_Data_Pipeline_Mini_Project\\\\src'"
      ]
     },
     "execution_count": 12,
     "metadata": {},
     "output_type": "execute_result"
    }
   ],
   "source": [
    "pwd"
   ]
  },
  {
   "cell_type": "code",
   "execution_count": 16,
   "id": "extraordinary-italian",
   "metadata": {},
   "outputs": [
    {
     "data": {
      "text/html": [
       "<div>\n",
       "<style scoped>\n",
       "    .dataframe tbody tr th:only-of-type {\n",
       "        vertical-align: middle;\n",
       "    }\n",
       "\n",
       "    .dataframe tbody tr th {\n",
       "        vertical-align: top;\n",
       "    }\n",
       "\n",
       "    .dataframe thead th {\n",
       "        text-align: right;\n",
       "    }\n",
       "</style>\n",
       "<table border=\"1\" class=\"dataframe\">\n",
       "  <thead>\n",
       "    <tr style=\"text-align: right;\">\n",
       "      <th></th>\n",
       "      <th>1</th>\n",
       "      <th>2020-08-01</th>\n",
       "      <th>100</th>\n",
       "      <th>The North American International Auto Show</th>\n",
       "      <th>2020-09-01</th>\n",
       "      <th>Exhibition</th>\n",
       "      <th>Michigan</th>\n",
       "      <th>123</th>\n",
       "      <th>35.00</th>\n",
       "      <th>3</th>\n",
       "    </tr>\n",
       "  </thead>\n",
       "  <tbody>\n",
       "    <tr>\n",
       "      <th>0</th>\n",
       "      <td>2</td>\n",
       "      <td>2020-08-03</td>\n",
       "      <td>101</td>\n",
       "      <td>Carlisle Ford Nationals</td>\n",
       "      <td>2020-09-30</td>\n",
       "      <td>Exhibition</td>\n",
       "      <td>Carlisle</td>\n",
       "      <td>151</td>\n",
       "      <td>43.00</td>\n",
       "      <td>1</td>\n",
       "    </tr>\n",
       "    <tr>\n",
       "      <th>1</th>\n",
       "      <td>3</td>\n",
       "      <td>2020-08-03</td>\n",
       "      <td>102</td>\n",
       "      <td>Washington Spirits vs Sky Blue FC</td>\n",
       "      <td>2020-08-30</td>\n",
       "      <td>Sports</td>\n",
       "      <td>Washington DC</td>\n",
       "      <td>223</td>\n",
       "      <td>59.34</td>\n",
       "      <td>5</td>\n",
       "    </tr>\n",
       "    <tr>\n",
       "      <th>2</th>\n",
       "      <td>4</td>\n",
       "      <td>2020-08-05</td>\n",
       "      <td>103</td>\n",
       "      <td>Christmas Spectacular</td>\n",
       "      <td>2020-10-05</td>\n",
       "      <td>Theater</td>\n",
       "      <td>New York</td>\n",
       "      <td>223</td>\n",
       "      <td>89.95</td>\n",
       "      <td>2</td>\n",
       "    </tr>\n",
       "    <tr>\n",
       "      <th>3</th>\n",
       "      <td>5</td>\n",
       "      <td>2020-08-05</td>\n",
       "      <td>100</td>\n",
       "      <td>The North American International Auto Show</td>\n",
       "      <td>2020-09-01</td>\n",
       "      <td>Exhibition</td>\n",
       "      <td>Michigan</td>\n",
       "      <td>126</td>\n",
       "      <td>35.00</td>\n",
       "      <td>1</td>\n",
       "    </tr>\n",
       "    <tr>\n",
       "      <th>4</th>\n",
       "      <td>6</td>\n",
       "      <td>2020-08-05</td>\n",
       "      <td>103</td>\n",
       "      <td>Christmas Spectacular</td>\n",
       "      <td>2020-10-05</td>\n",
       "      <td>Theater</td>\n",
       "      <td>New York</td>\n",
       "      <td>1024</td>\n",
       "      <td>89.95</td>\n",
       "      <td>3</td>\n",
       "    </tr>\n",
       "  </tbody>\n",
       "</table>\n",
       "</div>"
      ],
      "text/plain": [
       "   1  2020-08-01  100  The North American International Auto Show  2020-09-01  \\\n",
       "0  2  2020-08-03  101                     Carlisle Ford Nationals  2020-09-30   \n",
       "1  3  2020-08-03  102           Washington Spirits vs Sky Blue FC  2020-08-30   \n",
       "2  4  2020-08-05  103                       Christmas Spectacular  2020-10-05   \n",
       "3  5  2020-08-05  100  The North American International Auto Show  2020-09-01   \n",
       "4  6  2020-08-05  103                       Christmas Spectacular  2020-10-05   \n",
       "\n",
       "   Exhibition       Michigan   123  35.00  3  \n",
       "0  Exhibition       Carlisle   151  43.00  1  \n",
       "1      Sports  Washington DC   223  59.34  5  \n",
       "2     Theater       New York   223  89.95  2  \n",
       "3  Exhibition       Michigan   126  35.00  1  \n",
       "4     Theater       New York  1024  89.95  3  "
      ]
     },
     "execution_count": 16,
     "metadata": {},
     "output_type": "execute_result"
    }
   ],
   "source": [
    "import pandas as pd\n",
    "df1 = pd.read_csv(\"C:/Users/alfre/OneDrive/3_School/BootCamp_Springboard/Data_Engineering_Path/1_training/15.3_Data_Pipeline_Mini_Project/data/third_party_sales_1.csv\",error_bad_lines=False, engine=\"python\")\n",
    "df1.head()"
   ]
  },
  {
   "cell_type": "code",
   "execution_count": null,
   "id": "guided-poison",
   "metadata": {},
   "outputs": [],
   "source": [
    "#Load a CSV\n",
    "# Read a csv file and set the headers\n",
    "df = (spark.read\n",
    "      .options(header='true')\n",
    "      .csv(\"/home/repl/workspace/mnt/data_lake/landing/ratings.csv\"))\n",
    "\n",
    "df.show()\n",
    "\n",
    "\n",
    "=================\n",
    "Define a Schema\n",
    "=================\n",
    "# Define the schema\n",
    "schema = StructType([\n",
    "  StructField(\"brand\", StringType(), nullable=False),\n",
    "  StructField(\"model\", StringType(), nullable=False),\n",
    "  StructField(\"absorption_rate\", ByteType(), nullable=True),\n",
    "  StructField(\"comfort\", ByteType(), nullable=True)\n",
    "])\n",
    "\n",
    "better_df = (spark\n",
    "             .read\n",
    "             .options(header=\"true\")\n",
    "             # Pass the predefined schema to the Reader\n",
    "             .schema(schema)\n",
    "             .csv(\"/home/repl/workspace/mnt/data_lake/landing/ratings.csv\"))\n",
    "pprint(better_df.dtypes)"
   ]
  },
  {
   "cell_type": "code",
   "execution_count": null,
   "id": "foreign-container",
   "metadata": {},
   "outputs": [],
   "source": []
  }
 ],
 "metadata": {
  "kernelspec": {
   "display_name": "Python 3",
   "language": "python",
   "name": "python3"
  },
  "language_info": {
   "codemirror_mode": {
    "name": "ipython",
    "version": 3
   },
   "file_extension": ".py",
   "mimetype": "text/x-python",
   "name": "python",
   "nbconvert_exporter": "python",
   "pygments_lexer": "ipython3",
   "version": "3.8.5"
  }
 },
 "nbformat": 4,
 "nbformat_minor": 5
}
