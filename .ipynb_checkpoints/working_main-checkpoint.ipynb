{
 "cells": [
  {
   "cell_type": "code",
   "execution_count": 1,
   "id": "substantial-shelter",
   "metadata": {},
   "outputs": [],
   "source": [
    "# Import libraries: to Ingest data\n",
    "import package\n",
    "import mysql.connector\n",
    "import csv\n",
    "import pandas as pd\n",
    "from pandas import DataFrame\n",
    "from mysql.connector import errorcode"
   ]
  },
  {
   "cell_type": "markdown",
   "id": "shared-proposal",
   "metadata": {},
   "source": [
    "### Step 1. Install MySQL Python connector\n",
    "* mysql-connector-python is a MySQL database adapter in Python. It provides convenient APIs to load and query the tables. It also has a nice tool to load CSV files into the tables. In this step, we will need to install this Python module.\n",
    "\n",
    "~~~\n",
    "pip3 install mysql-connector-python\n",
    "~~~"
   ]
  },
  {
   "cell_type": "markdown",
   "id": "armed-maldives",
   "metadata": {},
   "source": [
    "### Step 2. Load third-party ticket sales data into MySQL database\n",
    "> __Step 2.1 Setup database connection__\n",
    "\n",
    "> * In order to make a query against the database table, we need to first connect to it. A connection can be established only when the user provides the proper target host, port, and user credentials."
   ]
  },
  {
   "cell_type": "code",
   "execution_count": 2,
   "id": "provincial-switch",
   "metadata": {},
   "outputs": [],
   "source": [
    "# Setup database connection and connect to MySQL database\n",
    "def get_db_connection():\n",
    "    connection = None\n",
    "    try:\n",
    "        connection = mysql.connector.connect(user='xxxxxxx',\n",
    "        password='xxxxxxxx',\n",
    "        host='127.0.0.1',\n",
    "        port='3306',\n",
    "        database='mini_pipeline')\n",
    "    except Exception as error:\n",
    "        print(\"Error while connecting to database for job tracker\", error)\n",
    "    return connection"
   ]
  },
  {
   "cell_type": "markdown",
   "id": "polished-dating",
   "metadata": {},
   "source": [
    "> __Step 2.2 Load CSV to table__\n",
    "\n",
    "> * You’ll find the third party vendor data in the CSV file provided to you. \n",
    "> * The CSV follows the schema of the table. You will need to use the Python connector to insert each record of the CSV file into the “sales” table."
   ]
  },
  {
   "cell_type": "code",
   "execution_count": 3,
   "id": "junior-handbook",
   "metadata": {},
   "outputs": [],
   "source": [
    "# Extract data\n",
    "## Use package.sales to pull data from relative file location\n",
    "sales = package.sales\n",
    "file_path_csv = r'data\\sales_clean.csv'\n",
    "\n",
    "# Tranform data\n",
    "## Append lables to dataframe\n",
    "df = DataFrame(sales,columns=['ticket_id', 'trans_date', 'event_id', 'event_name', 'event_date', \n",
    "                              'event_type', 'event_city', 'customer_id', 'price', 'num_tickets'\n",
    "                             ])\n",
    "\n",
    "## Convert columns to the appropriate data types\n",
    "df1 = df.astype({'ticket_id': 'int', 'trans_date': 'datetime64[ns]', 'event_id': 'int', 'event_name': 'str', 'event_date': 'datetime64[ns]', \n",
    "                 'event_type': 'str', 'event_city': 'str', 'customer_id': 'int', 'price': 'float', 'num_tickets': 'int'\n",
    "                })\n",
    "\n",
    "## Save .csv file\n",
    "df1.to_csv(file_path_csv, index=False)\n",
    "\n",
    "## Notes\n",
    "#print(file_path_csv) # print string (file name)\n",
    "#print(open(file_path_csv)) # print file object\n",
    "#print(open(file_path_csv).read()) # printed file content\n",
    "#print(open(file_path_csv).readlines()) # printed file content"
   ]
  },
  {
   "cell_type": "code",
   "execution_count": 4,
   "id": "aerial-crown",
   "metadata": {},
   "outputs": [
    {
     "name": "stdout",
     "output_type": "stream",
     "text": [
      "Successful Load: ['1', '2020-08-01', '100', 'The North American International Auto Show', '2020-09-01', 'Exhibition', 'Michigan', '123', '35.0', '3'].\n",
      "Successful Load: ['2', '2020-08-03', '101', 'Carlisle Ford Nationals', '2020-09-30', 'Exhibition', 'Carlisle', '151', '43.0', '1'].\n",
      "Successful Load: ['3', '2020-08-03', '102', 'Washington Spirits vs Sky Blue FC', '2020-08-30', 'Sports', 'Washington DC', '223', '59.34', '5'].\n",
      "Successful Load: ['4', '2020-08-05', '103', 'Christmas Spectacular', '2020-10-05', 'Theater', 'New York', '223', '89.95', '2'].\n",
      "Successful Load: ['5', '2020-08-05', '100', 'The North American International Auto Show', '2020-09-01', 'Exhibition', 'Michigan', '126', '35.0', '1'].\n",
      "Successful Load: ['6', '2020-08-05', '103', 'Christmas Spectacular', '2020-10-05', 'Theater', 'New York', '1024', '89.95', '3'].\n"
     ]
    }
   ],
   "source": [
    "## Create table and Load data to database\n",
    "def load_third_party(connection, file_path_csv):\n",
    "    with connection.cursor() as cursor:\n",
    "        cursor = connection.cursor()\n",
    "\n",
    "        # [Iterate through the CSV file and execute insert statement]\n",
    "        # Check database and drop target table if it exists\n",
    "        cursor.execute(\"DROP TABLE IF EXISTS sales\")\n",
    "        \n",
    "        # Create sale table SCHEMA\n",
    "        create_sales_table_query = \"\"\"\n",
    "        CREATE TABLE sales(\n",
    "            ticket_id INT,\n",
    "            trans_date DATE,\n",
    "            event_id INT,\n",
    "            event_name VARCHAR(50),\n",
    "            event_date DATE NOT NULL,\n",
    "            event_type VARCHAR(10),\n",
    "            event_city VARCHAR(20),\n",
    "            customer_id INT,\n",
    "            price DECIMAL,\n",
    "            num_tickets INT,\n",
    "            PRIMARY KEY(ticket_id)\n",
    "        )\n",
    "        \"\"\"\n",
    "        # Execute the table query\n",
    "        cursor.execute(create_sales_table_query)\n",
    "\n",
    "        # Open csv file object (container)\n",
    "        csv_data = csv.reader(open(file_path_csv, 'r'))\n",
    "        ctr = 0 # set interable constructor at 0\n",
    "        for row in csv_data: # iterate over rows in csv data\n",
    "            if ctr == 0:\n",
    "                ctr += 1\n",
    "                continue\n",
    "            # Print test message to ensure successful load\n",
    "            print(f\"Successful Load: {row}.\")\n",
    "            \n",
    "            # Execute INSERT statement\n",
    "            cursor.execute('INSERT INTO mini_pipeline.sales (ticket_id, trans_date, event_id, event_name, event_date, event_type, event_city, customer_id, price, num_tickets)' \\\n",
    "                  'VALUES (%s, %s, %s, %s, %s, %s, %s, %s, %s, %s)', \n",
    "                  row)\n",
    "    # Commit the connection to the database.\n",
    "    connection.commit()\n",
    " \n",
    "load_third_party(get_db_connection(), file_path_csv)"
   ]
  },
  {
   "cell_type": "markdown",
   "id": "sized-velvet",
   "metadata": {},
   "source": [
    "### Step 3. Display statistical information\n",
    "* After the data is loaded into the table, you can use this data to provide recommendations to the user. For instance, recommending popular events by finding the most top-selling tickets for the past month."
   ]
  },
  {
   "cell_type": "markdown",
   "id": "alpha-organic",
   "metadata": {},
   "source": [
    "> __3.1 Query the table and get the selected records__"
   ]
  },
  {
   "cell_type": "code",
   "execution_count": 5,
   "id": "instant-plastic",
   "metadata": {},
   "outputs": [
    {
     "name": "stdout",
     "output_type": "stream",
     "text": [
      "The most trending event at the moment is: [('The North American International Auto Show', 'Exhibition', 'Michigan', 5)]\n"
     ]
    }
   ],
   "source": [
    "# Build popular query function\n",
    "def query_popular_tickets1(connection):\n",
    "    # Get the most popular ticket in the past month\n",
    "    sql_statement = \"SELECT event_name, event_type, event_city, MAX(num_tickets) FROM mini_pipeline.sales as mps\"\n",
    "    cursor = connection.cursor()\n",
    "    cursor.execute(sql_statement)\n",
    "    records = cursor.fetchall()\n",
    "    cursor.close()\n",
    "    return records\n",
    "\n",
    "# Run query function\n",
    "trending_event = query_popular_tickets1(get_db_connection())\n",
    "print(f'The most trending event at the moment is: {trending_event}')"
   ]
  },
  {
   "cell_type": "markdown",
   "id": "joint-reverse",
   "metadata": {},
   "source": [
    "> __3.2 Display the result__\n",
    "> * The records you just retrieved are formatted as a list of tuples. You need to convert the format to display the on-screen results in a more user-friendly format. Please use this as an example.\n",
    "\n",
    "> ___Here are the most popular tickets in the past month:___\n",
    "> - The North American International Auto Show\n",
    "> - Carlisle Ford Nationals\n",
    "> - Washington Spirits vs Sky Blue FC"
   ]
  },
  {
   "cell_type": "code",
   "execution_count": 6,
   "id": "polish-basics",
   "metadata": {},
   "outputs": [
    {
     "name": "stdout",
     "output_type": "stream",
     "text": [
      "The North American International Auto Show\n",
      "                   Carlisle Ford Nationals\n",
      "         Washington Spirits vs Sky Blue FC\n"
     ]
    }
   ],
   "source": [
    "# Build popular query function\n",
    "fileout_csv = r'data\\fileout.csv'\n",
    "\n",
    "def query_popular_tickets2(connection):\n",
    "    # Get the most popular ticket in the past month\n",
    "    sql_statement = \"SELECT event_name FROM mini_pipeline.sales as mps LIMIT 3\"\n",
    "    cursor = connection.cursor()\n",
    "    cursor.execute(sql_statement)\n",
    "    with open(fileout_csv,'w') as fileout:\n",
    "        writer = csv.writer(fileout)\n",
    "        for row in cursor:\n",
    "            writer.writerow(row)\n",
    "    dframe = pd.read_table(fileout_csv, sep=',')\n",
    "    print(dframe.to_string(index = False))\n",
    "    \n",
    "    # Close the connection to the database.\n",
    "    connection.close()\n",
    "\n",
    "# Run query function\n",
    "query_popular_tickets2(get_db_connection())"
   ]
  },
  {
   "cell_type": "code",
   "execution_count": null,
   "id": "apart-index",
   "metadata": {},
   "outputs": [],
   "source": []
  }
 ],
 "metadata": {
  "kernelspec": {
   "display_name": "Python 3",
   "language": "python",
   "name": "python3"
  },
  "language_info": {
   "codemirror_mode": {
    "name": "ipython",
    "version": 3
   },
   "file_extension": ".py",
   "mimetype": "text/x-python",
   "name": "python",
   "nbconvert_exporter": "python",
   "pygments_lexer": "ipython3",
   "version": "3.8.8"
  }
 },
 "nbformat": 4,
 "nbformat_minor": 5
}
