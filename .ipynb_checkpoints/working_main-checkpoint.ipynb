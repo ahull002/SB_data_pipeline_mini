{
 "cells": [
  {
   "cell_type": "code",
   "execution_count": 1,
   "id": "optical-response",
   "metadata": {},
   "outputs": [],
   "source": [
    "# Import libraries: to Ingest data\n",
    "import package\n",
    "from pandas import DataFrame\n",
    "import mysql.connector\n",
    "from mysql.connector import errorcode\n",
    "import os\n",
    "from csv import reader,writer\n",
    "import random\n",
    "import time"
   ]
  },
  {
   "cell_type": "markdown",
   "id": "native-kentucky",
   "metadata": {},
   "source": [
    "### Step 1. Install MySQL Python connector\n",
    "* mysql-connector-python is a MySQL database adapter in Python. It provides convenient APIs to load and query the tables. It also has a nice tool to load CSV files into the tables. In this step, we will need to install this Python module.\n",
    "\n",
    "~~~\n",
    "pip3 install mysql-connector-python\n",
    "~~~"
   ]
  },
  {
   "cell_type": "markdown",
   "id": "adverse-mason",
   "metadata": {},
   "source": [
    "### Step 2. Load third-party ticket sales data into MySQL database\n",
    "> __Step 2.1 Setup database connection__\n",
    "\n",
    "> * In order to make a query against the database table, we need to first connect to it. A connection can be established only when the user provides the proper target host, port, and user credentials."
   ]
  },
  {
   "cell_type": "code",
   "execution_count": 2,
   "id": "threaded-founder",
   "metadata": {},
   "outputs": [],
   "source": [
    "# Setup database connection and connect to MySQL database\n",
    "def get_db_connection():\n",
    "    connection = None\n",
    "    try:\n",
    "        connection = mysql.connector.connect(user='adhull',\n",
    "        password='xxxxxx',\n",
    "        host='127.0.0.1',\n",
    "        port='3306',\n",
    "        database='mini_pipeline')\n",
    "    except Exception as error:\n",
    "        print(\"Error while connecting to database for job tracker\", error)\n",
    "    return connection"
   ]
  },
  {
   "cell_type": "markdown",
   "id": "suspected-curtis",
   "metadata": {},
   "source": [
    "> __2.2 Load CSV to table__\n",
    "\n",
    "> * You’ll find the third party vendor data in the CSV file provided to you. \n",
    "> * The CSV follows the schema of the table. You will need to use the Python connector to insert each record of the CSV file into the “sales” table."
   ]
  },
  {
   "cell_type": "code",
   "execution_count": 3,
   "id": "ethical-guest",
   "metadata": {},
   "outputs": [],
   "source": [
    "# Extract data\n",
    "## Use package.sales to pull data from relative file location\n",
    "sales = package.sales\n",
    "file_path_csv = r'data\\sales_clean.csv'\n",
    "\n",
    "\n",
    "# Tranform data\n",
    "## Append lables to dataframe\n",
    "df = DataFrame(sales,columns=['ticket_id', 'trans_date', 'event_id', 'event_name', 'event_date', \n",
    "                              'event_type', 'event_city', 'customer_id', 'price', 'num_tickets'\n",
    "                             ])\n",
    "\n",
    "## Convert columns to the appropriate data types\n",
    "df1 = df.astype({'ticket_id': 'int', 'trans_date': 'datetime64[ns]', 'event_id': 'int', 'event_name': 'str', 'event_date': 'datetime64[ns]', \n",
    "                 'event_type': 'str', 'event_city': 'str', 'customer_id': 'int', 'price': 'float', 'num_tickets': 'int'\n",
    "                })\n",
    "\n",
    "## Save .csv file\n",
    "df1.to_csv(file_path_csv, index=False)"
   ]
  },
  {
   "cell_type": "code",
   "execution_count": 4,
   "id": "sophisticated-possession",
   "metadata": {},
   "outputs": [],
   "source": [
    "## Create table and Load data to database\n",
    "def load_third_party(connection, file_path_csv):\n",
    "    cursor = connection.cursor()\n",
    "    \n",
    "    # [Iterate through the CSV file and execute insert statement]\n",
    "    cursor.execute(\"DROP TABLE IF EXISTS load_third_party\")\n",
    "    create_sales_table_query = \"\"\"\n",
    "    CREATE TABLE sales(\n",
    "        ticket_id INT,\n",
    "        trans_date INT,\n",
    "        event_id INT,\n",
    "        event_name VARCHAR(50),\n",
    "        event_date DATE NOT NULL,\n",
    "        event_type VARCHAR(10),\n",
    "        event_city VARCHAR(20),\n",
    "        customer_id INT,\n",
    "        price DECIMAL,\n",
    "        num_tickets INT,\n",
    "        PRIMARY KEY(ticket_id)\n",
    "    )\n",
    "    \"\"\"\n",
    "    with connection.cursor() as cursor:\n",
    "        cursor.execute(create_sales_table_query)\n",
    "        connection.commit\n",
    "        connection.close"
   ]
  },
  {
   "cell_type": "code",
   "execution_count": 10,
   "id": "devoted-douglas",
   "metadata": {},
   "outputs": [
    {
     "ename": "ProgrammingError",
     "evalue": "Not enough parameters for the SQL statement",
     "output_type": "error",
     "traceback": [
      "\u001b[1;31m---------------------------------------------------------------------------\u001b[0m",
      "\u001b[1;31mIndexError\u001b[0m                                Traceback (most recent call last)",
      "\u001b[1;32m~\\anaconda3\\lib\\site-packages\\mysql\\connector\\cursor.py\u001b[0m in \u001b[0;36m__call__\u001b[1;34m(self, matchobj)\u001b[0m\n\u001b[0;32m     82\u001b[0m         \u001b[1;32mtry\u001b[0m\u001b[1;33m:\u001b[0m\u001b[1;33m\u001b[0m\u001b[1;33m\u001b[0m\u001b[0m\n\u001b[1;32m---> 83\u001b[1;33m             \u001b[1;32mreturn\u001b[0m \u001b[0mbytes\u001b[0m\u001b[1;33m(\u001b[0m\u001b[0mself\u001b[0m\u001b[1;33m.\u001b[0m\u001b[0mparams\u001b[0m\u001b[1;33m[\u001b[0m\u001b[0mindex\u001b[0m\u001b[1;33m]\u001b[0m\u001b[1;33m)\u001b[0m\u001b[1;33m\u001b[0m\u001b[1;33m\u001b[0m\u001b[0m\n\u001b[0m\u001b[0;32m     84\u001b[0m         \u001b[1;32mexcept\u001b[0m \u001b[0mIndexError\u001b[0m\u001b[1;33m:\u001b[0m\u001b[1;33m\u001b[0m\u001b[1;33m\u001b[0m\u001b[0m\n",
      "\u001b[1;31mIndexError\u001b[0m: tuple index out of range",
      "\nDuring handling of the above exception, another exception occurred:\n",
      "\u001b[1;31mProgrammingError\u001b[0m                          Traceback (most recent call last)",
      "\u001b[1;32m<ipython-input-10-8e4e03ee5cc0>\u001b[0m in \u001b[0;36m<module>\u001b[1;34m\u001b[0m\n\u001b[0;32m     11\u001b[0m \u001b[1;32mfor\u001b[0m \u001b[0mrow\u001b[0m \u001b[1;32min\u001b[0m \u001b[0mcsv_data\u001b[0m\u001b[1;33m:\u001b[0m\u001b[1;33m\u001b[0m\u001b[1;33m\u001b[0m\u001b[0m\n\u001b[0;32m     12\u001b[0m \u001b[1;33m\u001b[0m\u001b[0m\n\u001b[1;32m---> 13\u001b[1;33m     cursor.execute('INSERT INTO mini_pipeline.sales (ticket_id, trans_date, event_id, event_name, event_date, event_type, event_city, customer_id, price, num_tickets)' \\\n\u001b[0m\u001b[0;32m     14\u001b[0m           \u001b[1;34m'VALUES (%s, %s, %s, %s, %s, %s, %s, %s, %s, %s)'\u001b[0m\u001b[1;33m,\u001b[0m\u001b[1;33m\u001b[0m\u001b[1;33m\u001b[0m\u001b[0m\n\u001b[0;32m     15\u001b[0m           row)\n",
      "\u001b[1;32m~\\anaconda3\\lib\\site-packages\\mysql\\connector\\cursor.py\u001b[0m in \u001b[0;36mexecute\u001b[1;34m(self, operation, params, multi)\u001b[0m\n\u001b[0;32m    564\u001b[0m             \u001b[1;32melif\u001b[0m \u001b[0misinstance\u001b[0m\u001b[1;33m(\u001b[0m\u001b[0mparams\u001b[0m\u001b[1;33m,\u001b[0m \u001b[1;33m(\u001b[0m\u001b[0mlist\u001b[0m\u001b[1;33m,\u001b[0m \u001b[0mtuple\u001b[0m\u001b[1;33m)\u001b[0m\u001b[1;33m)\u001b[0m\u001b[1;33m:\u001b[0m\u001b[1;33m\u001b[0m\u001b[1;33m\u001b[0m\u001b[0m\n\u001b[0;32m    565\u001b[0m                 \u001b[0mpsub\u001b[0m \u001b[1;33m=\u001b[0m \u001b[0m_ParamSubstitutor\u001b[0m\u001b[1;33m(\u001b[0m\u001b[0mself\u001b[0m\u001b[1;33m.\u001b[0m\u001b[0m_process_params\u001b[0m\u001b[1;33m(\u001b[0m\u001b[0mparams\u001b[0m\u001b[1;33m)\u001b[0m\u001b[1;33m)\u001b[0m\u001b[1;33m\u001b[0m\u001b[1;33m\u001b[0m\u001b[0m\n\u001b[1;32m--> 566\u001b[1;33m                 \u001b[0mstmt\u001b[0m \u001b[1;33m=\u001b[0m \u001b[0mRE_PY_PARAM\u001b[0m\u001b[1;33m.\u001b[0m\u001b[0msub\u001b[0m\u001b[1;33m(\u001b[0m\u001b[0mpsub\u001b[0m\u001b[1;33m,\u001b[0m \u001b[0mstmt\u001b[0m\u001b[1;33m)\u001b[0m\u001b[1;33m\u001b[0m\u001b[1;33m\u001b[0m\u001b[0m\n\u001b[0m\u001b[0;32m    567\u001b[0m                 \u001b[1;32mif\u001b[0m \u001b[0mpsub\u001b[0m\u001b[1;33m.\u001b[0m\u001b[0mremaining\u001b[0m \u001b[1;33m!=\u001b[0m \u001b[1;36m0\u001b[0m\u001b[1;33m:\u001b[0m\u001b[1;33m\u001b[0m\u001b[1;33m\u001b[0m\u001b[0m\n\u001b[0;32m    568\u001b[0m                     raise errors.ProgrammingError(\n",
      "\u001b[1;32m~\\anaconda3\\lib\\site-packages\\mysql\\connector\\cursor.py\u001b[0m in \u001b[0;36m__call__\u001b[1;34m(self, matchobj)\u001b[0m\n\u001b[0;32m     83\u001b[0m             \u001b[1;32mreturn\u001b[0m \u001b[0mbytes\u001b[0m\u001b[1;33m(\u001b[0m\u001b[0mself\u001b[0m\u001b[1;33m.\u001b[0m\u001b[0mparams\u001b[0m\u001b[1;33m[\u001b[0m\u001b[0mindex\u001b[0m\u001b[1;33m]\u001b[0m\u001b[1;33m)\u001b[0m\u001b[1;33m\u001b[0m\u001b[1;33m\u001b[0m\u001b[0m\n\u001b[0;32m     84\u001b[0m         \u001b[1;32mexcept\u001b[0m \u001b[0mIndexError\u001b[0m\u001b[1;33m:\u001b[0m\u001b[1;33m\u001b[0m\u001b[1;33m\u001b[0m\u001b[0m\n\u001b[1;32m---> 85\u001b[1;33m             raise errors.ProgrammingError(\n\u001b[0m\u001b[0;32m     86\u001b[0m                 \"Not enough parameters for the SQL statement\")\n\u001b[0;32m     87\u001b[0m \u001b[1;33m\u001b[0m\u001b[0m\n",
      "\u001b[1;31mProgrammingError\u001b[0m: Not enough parameters for the SQL statement"
     ]
    }
   ],
   "source": [
    "import csv\n",
    "connection = mysql.connector.connect(user='adhull',\n",
    "                                     password='xxxxxxx',\n",
    "                                     host='127.0.0.1',\n",
    "                                     port='3306',\n",
    "                                     database='mini_pipeline')\n",
    "\n",
    "csv_data = csv.reader(file_path_csv)\n",
    "cursor = connection.cursor()\n",
    "\n",
    "for row in csv_data:\n",
    "\n",
    "    cursor.execute('INSERT INTO mini_pipeline.sales (ticket_id, trans_date, event_id, event_name, event_date, event_type, event_city, customer_id, price, num_tickets)' \\\n",
    "          'VALUES (%s, %s, %s, %s, %s, %s, %s, %s, %s, %s)', \n",
    "          row)\n",
    "    \"insert into testcsv(names, classes, mark) values(%s, %s, %s)\", row\n",
    "    \n",
    "# close the connection to the database.\n",
    "connection.commit()\n",
    "cursor.close()\n",
    "connection.close()     \n",
    "                   \n",
    "print(\"Done\")"
   ]
  },
  {
   "cell_type": "code",
   "execution_count": null,
   "id": "tropical-catering",
   "metadata": {},
   "outputs": [],
   "source": []
  },
  {
   "cell_type": "code",
   "execution_count": null,
   "id": "dietary-enhancement",
   "metadata": {},
   "outputs": [],
   "source": []
  },
  {
   "cell_type": "code",
   "execution_count": null,
   "id": "involved-scott",
   "metadata": {},
   "outputs": [],
   "source": []
  },
  {
   "cell_type": "code",
   "execution_count": null,
   "id": "competitive-scheduling",
   "metadata": {},
   "outputs": [],
   "source": []
  }
 ],
 "metadata": {
  "kernelspec": {
   "display_name": "Python 3",
   "language": "python",
   "name": "python3"
  },
  "language_info": {
   "codemirror_mode": {
    "name": "ipython",
    "version": 3
   },
   "file_extension": ".py",
   "mimetype": "text/x-python",
   "name": "python",
   "nbconvert_exporter": "python",
   "pygments_lexer": "ipython3",
   "version": "3.8.8"
  }
 },
 "nbformat": 4,
 "nbformat_minor": 5
}
